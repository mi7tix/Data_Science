{
  "nbformat": 4,
  "nbformat_minor": 0,
  "metadata": {
    "colab": {
      "name": "Парсинг HTML, XPath.ipynb",
      "provenance": [],
      "collapsed_sections": []
    },
    "kernelspec": {
      "name": "python3",
      "display_name": "Python 3"
    },
    "accelerator": "GPU"
  },
  "cells": [
    {
      "cell_type": "markdown",
      "metadata": {
        "id": "vqVIyKzi5NBL",
        "colab_type": "text"
      },
      "source": [
        "# Парсинг HTML, XPath\n",
        "\n",
        "### выполнил - Колеганов Н.Д.\n",
        "\n",
        "### Задание\n",
        "\n",
        "Написать приложение, которое собирает основные новости с сайтов mail.ru, lenta.ru, yandex-новости. Для парсинга использовать XPath. Структура данных должна содержать:\n",
        "\n",
        "    • название источника;\n",
        "\n",
        "    • наименование новости;\n",
        "\n",
        "    • ссылку на новость;\n",
        "\n",
        "    • дата публикации.\n"
      ]
    },
    {
      "cell_type": "code",
      "metadata": {
        "id": "Vp9dYYrJ5bL0",
        "colab_type": "code",
        "colab": {}
      },
      "source": [
        "from pprint import pprint\n",
        "from datetime import datetime\n",
        "from lxml import html\n",
        "import requests"
      ],
      "execution_count": 0,
      "outputs": []
    },
    {
      "cell_type": "markdown",
      "metadata": {
        "id": "CsSIOWmu5i75",
        "colab_type": "text"
      },
      "source": [
        "## Функции для сбора"
      ]
    },
    {
      "cell_type": "code",
      "metadata": {
        "id": "o09qwsqW8Xu3",
        "colab_type": "code",
        "colab": {}
      },
      "source": [
        "    headers = {\n",
        "                'User-Agent': 'Mozilla/5.0 (X11; Linux x86_64) AppleWebKit/537.36 (KHTML, like Gecko) Ubuntu Chromium/80.0.3987.87 Chrome/80.0.3987.87 Safari/537.36'\n",
        "            }"
      ],
      "execution_count": 0,
      "outputs": []
    },
    {
      "cell_type": "markdown",
      "metadata": {
        "id": "lSdka46q5trL",
        "colab_type": "text"
      },
      "source": [
        "с сайта Lenta.ru"
      ]
    },
    {
      "cell_type": "code",
      "metadata": {
        "id": "4aLTiZI-5fEA",
        "colab_type": "code",
        "colab": {}
      },
      "source": [
        "def requests_to_lenta():\n",
        "    main_link='https://lenta.ru/'\n",
        "    req=requests.get(main_link, headers=header)\n",
        "    root=html.fromstring(req.text)\n",
        "    news_list=[]\n",
        "\n",
        "    #Распарсим главную новость\n",
        "    title=root.xpath(\"//div[@class='first-item']//h2/a/text()\")\n",
        "    if title:\n",
        "        link=root.xpath(\"//div[@class='first-item']//h2/a/@href\")\n",
        "        news_dict=dict()\n",
        "        news_dict['site']=main_link\n",
        "        news_dict['title']=title[0].replace(u'\\xa0', u' ')\n",
        "        news_dict['link']=link[0]\n",
        "        news_dict['time']=root.xpath(\"//div[@class='first-item']//h2/a/time/text()\")\n",
        "        news_list.append(news_dict)\n",
        "    else:\n",
        "        print('Main news not found on lenta.ru')\n",
        "\n",
        "    #Распарсим остальные новости\n",
        "    titles=root.xpath(\"//section[@class='row b-top7-for-main js-top-seven']\"\n",
        "                      \"//div[@class='item']//a/text()\")\n",
        "    if len(titles)>0:\n",
        "        links=root.xpath(\"//section[@class='row b-top7-for-main js-top-seven']\"\n",
        "                         \"//div[@class='item']//a/@href\")\n",
        "        for i in range(len(links)):\n",
        "            news_dict=dict()\n",
        "            news_dict['site']=main_link\n",
        "            news_dict['title']=titles[i].replace(u'\\xa0', u' ')\n",
        "            news_dict['link']=links[i]\n",
        "            news_dict['time']=datetime.now().strftime(\"%d-%m-%Y %H:%M\")\n",
        "            news_list.append(news_dict)\n",
        "    else:\n",
        "        print('News not found on lenta.ru')\n",
        "\n",
        "    #Выведем результат на экран\n",
        "    pprint(news_list)"
      ],
      "execution_count": 0,
      "outputs": []
    },
    {
      "cell_type": "markdown",
      "metadata": {
        "id": "574zHcji5yEU",
        "colab_type": "text"
      },
      "source": [
        "с сайта Mail.ru"
      ]
    },
    {
      "cell_type": "code",
      "metadata": {
        "id": "rGnyYpgS52O8",
        "colab_type": "code",
        "colab": {}
      },
      "source": [
        "def requests_to_mail():\n",
        "    main_link='https://mail.ru/'\n",
        "    req=requests.get(main_link, headers=header)\n",
        "    root=html.fromstring(req.text)\n",
        "    news_list=[]\n",
        "\n",
        "    #Распарсим главную новость\n",
        "    title=root.xpath(\"//div[@class='news-item o-media \"\n",
        "                       \"news-item_media news-item_main']//h3/text()\")\n",
        "    if title:\n",
        "        link=root.xpath(\"//div[@class='news-item o-media news-item_media \"\n",
        "                          \"news-item_main']//a/@href\")\n",
        "        news_dict=dict()\n",
        "        news_dict['site']=main_link\n",
        "        news_dict['title']=title[0].replace(u'\\xa0', u' ')\n",
        "        news_dict['link']=link[0]\n",
        "        news_dict['time']=datetime.now().strftime(\"%d-%m-%Y %H:%M\")\n",
        "        news_list.append(news_dict)\n",
        "    else:\n",
        "        print('Main news not found on mail.ru')\n",
        "\n",
        "    #Распарсим остальные новости\n",
        "    titles=root.xpath(\"//div[@class='news-item__inner']/a[not(contains(@class,\"\n",
        "                        \" 'i-color-black i-inline'))]/text()\")\n",
        "    if len(titles)>0:\n",
        "        links=root.xpath(\"//div[@class='news-item__inner']/a[not(contains\"\n",
        "                           \"(@class, 'i-color-black i-inline'))]/@href\")\n",
        "        for i in range(len(links)):\n",
        "            news_dict=dict()\n",
        "            news_dict['site']=main_link\n",
        "            news_dict['title']=titles[i].replace(u'\\xa0', u' ')\n",
        "            news_dict['link']=links[i]\n",
        "            news_dict['time']=datetime.now().strftime(\"%d-%m-%Y %H:%M\")\n",
        "            news_list.append(news_dict)\n",
        "    else:\n",
        "        print('News not found on mail.ru')\n",
        "\n",
        "    #Выведем результат на экран\n",
        "    pprint(news_list)"
      ],
      "execution_count": 0,
      "outputs": []
    },
    {
      "cell_type": "code",
      "metadata": {
        "id": "Zmh16jow72p1",
        "colab_type": "code",
        "colab": {}
      },
      "source": [
        "\n",
        "def get_news_mail_ru():\n",
        "    \n",
        "    news = []    \n",
        "    \n",
        "    keys = ('title', 'date', 'link')\n",
        "    date_format = '%Y-%m-%dT%H:%M:%S%z'\n",
        "    \n",
        "\n",
        "    link_mail_ru = 'https://mail.ru/'\n",
        "    \n",
        "    request = requests.get(link_mail_ru, headers=headers)\n",
        "    root = html.fromstring(request.text)\n",
        "    \n",
        "    news_links = root.xpath('''(//div[@class =  \"news-item o-media news-item_media news-item_main\"]  |  \n",
        "                                //div[@class =  \"news-item__inner\"])\n",
        "                                /a[contains(@href, \"news.mail.ru\")]/@href''')\n",
        "    \n",
        "    news_text = root.xpath('''(//div[@class =  \"news-item o-media news-item_media news-item_main\"]//h3  |  \n",
        "                               //div[@class =  \"news-item__inner\"]/a[contains(@href, \"news.mail.ru\")])\n",
        "                               /text()''')\n",
        "    \n",
        "    for i in range(len(news_text)):\n",
        "        news_text[i] = news_text[i].replace(u'\\xa0', u' ')\n",
        "    \n",
        "    news_links_temp = []\n",
        "    for item in news_links:\n",
        "        item = item.split('/')\n",
        "        news_links_temp.append('/'.join(item[0:5]))\n",
        "        \n",
        "    news_links = news_links_temp\n",
        "    del(news_links_temp)\n",
        "    \n",
        "    news_date = []\n",
        "    \n",
        "    for item in news_links:\n",
        "        request = requests.get(item, headers=headers)\n",
        "        root = html.fromstring(request.text)\n",
        "        date = root.xpath('//span[@class=\"note__text breadcrumbs__text js-ago\"]/@datetime')\n",
        "        news_date.extend(date)\n",
        "        \n",
        "    for i in range(len(news_date)):\n",
        "        news_date[i] = datetime.strptime(news_date[i], date_format)\n",
        "        \n",
        "    for item in list(zip(news_text, news_date, news_links)):\n",
        "        news_dict = {}\n",
        "        for key, value in zip(keys, item):\n",
        "            news_dict[key] = value\n",
        "        \n",
        "        news_dict['source'] = 'mail.ru'\n",
        "        news.append(news_dict)\n",
        "    \n",
        "    return news"
      ],
      "execution_count": 0,
      "outputs": []
    },
    {
      "cell_type": "markdown",
      "metadata": {
        "id": "HS84atAX56_t",
        "colab_type": "text"
      },
      "source": [
        "## Результат"
      ]
    },
    {
      "cell_type": "code",
      "metadata": {
        "id": "XT8wRfn375p-",
        "colab_type": "code",
        "colab": {
          "base_uri": "https://localhost:8080/",
          "height": 34
        },
        "outputId": "0bc79cab-71c3-4684-aebc-8b2a4e5c2b5f"
      },
      "source": [
        "get_news_mail_ru()"
      ],
      "execution_count": 26,
      "outputs": [
        {
          "output_type": "execute_result",
          "data": {
            "text/plain": [
              "[]"
            ]
          },
          "metadata": {
            "tags": []
          },
          "execution_count": 26
        }
      ]
    },
    {
      "cell_type": "code",
      "metadata": {
        "id": "JxUs-xZk7byh",
        "colab_type": "code",
        "colab": {
          "base_uri": "https://localhost:8080/",
          "height": 745
        },
        "outputId": "d02ddc29-be62-44a0-ca4b-e9884d885aed"
      },
      "source": [
        "requests_to_lenta()"
      ],
      "execution_count": 25,
      "outputs": [
        {
          "output_type": "stream",
          "text": [
            "[{'link': '/news/2020/03/17/ukaz/',\n",
            "  'site': 'https://lenta.ru/',\n",
            "  'time': ['20:52'],\n",
            "  'title': 'Путин назначил дату голосования по поправкам к Конституции'},\n",
            " {'link': '/news/2020/03/17/333/',\n",
            "  'site': 'https://lenta.ru/',\n",
            "  'time': '17-03-2020 19:21',\n",
            "  'title': 'Евросоюз запретит въезд гражданам других стран'},\n",
            " {'link': '/news/2020/03/17/blaise/',\n",
            "  'site': 'https://lenta.ru/',\n",
            "  'time': '17-03-2020 19:21',\n",
            "  'title': 'Чемпион мира по футболу заразился коронавирусом'},\n",
            " {'link': '/news/2020/03/17/zharov/',\n",
            "  'site': 'https://lenta.ru/',\n",
            "  'time': '17-03-2020 19:21',\n",
            "  'title': 'Глава Роскомнадзора покинет ведомство'},\n",
            " {'link': '/news/2020/03/17/peskov_ukaz/',\n",
            "  'site': 'https://lenta.ru/',\n",
            "  'time': '17-03-2020 19:21',\n",
            "  'title': 'Песков объяснил вероятность переноса голосования за поправки к '\n",
            "           'Конституции'},\n",
            " {'link': '/news/2020/03/17/neffft/',\n",
            "  'site': 'https://lenta.ru/',\n",
            "  'time': '17-03-2020 19:21',\n",
            "  'title': 'Цена на нефть упала ниже 29 долларов'},\n",
            " {'link': '/news/2020/03/17/olympics/',\n",
            "  'site': 'https://lenta.ru/',\n",
            "  'time': '17-03-2020 19:21',\n",
            "  'title': 'МОК высказался о судьбе Олимпиады-2020'},\n",
            " {'link': '/news/2020/03/17/rzd/',\n",
            "  'site': 'https://lenta.ru/',\n",
            "  'time': '17-03-2020 19:21',\n",
            "  'title': 'В РЖД объяснили ситуацию с поездами в Белоруссию после закрытия '\n",
            "           'границы'},\n",
            " {'link': '/news/2020/03/17/gref/',\n",
            "  'site': 'https://lenta.ru/',\n",
            "  'time': '17-03-2020 19:21',\n",
            "  'title': 'Греф рассказал о долларе по 100 рублей и нефти за 20 долларов'},\n",
            " {'link': '/news/2020/03/17/lmnv/',\n",
            "  'site': 'https://lenta.ru/',\n",
            "  'time': '17-03-2020 19:21',\n",
            "  'title': 'Названа причина смерти Эдуарда Лимонова'}]\n"
          ],
          "name": "stdout"
        }
      ]
    }
  ]
}